{
 "cells": [
  {
   "cell_type": "markdown",
   "metadata": {},
   "source": [
    "# Twitter filterer\n",
    "This notebook allows to filter tweets. One can filter for a certain text that must be contained or that is must not be contained in the message. One can also filter for a maximum amount, for a time frame and one can remove tweets with redundant messages."
   ]
  },
  {
   "cell_type": "code",
   "execution_count": null,
   "metadata": {},
   "outputs": [],
   "source": [
    "import json\n",
    "import math\n",
    "from datetime import datetime, timezone"
   ]
  },
  {
   "cell_type": "code",
   "execution_count": null,
   "metadata": {},
   "outputs": [],
   "source": [
    "def load_tweets(filenames):\n",
    "    \"\"\"\n",
    "    Loads the tweets from the file with the given name into an array of tweets.\n",
    "\n",
    "    @param filename: The filename of the file to load the tweets from.\n",
    "\n",
    "    @returns: An array of tweets.\n",
    "    \"\"\"\n",
    "    tweets = []\n",
    "    for filename in filenames:\n",
    "        with open(filename, 'r') as f:\n",
    "            for sLine in f:\n",
    "                tweet = json.loads(sLine)\n",
    "                tweets.append(tweet)\n",
    "    return tweets\n",
    "\n",
    "def get_hashtags(tweet):\n",
    "    \"\"\"\n",
    "    Extracts the associated hashtags of tweet.\n",
    "\n",
    "    @param tweet: The tweet, which is in the tweepy json format, and which we wish to extract its associated hashtags.\n",
    "\n",
    "    @returns: list of hashtags (in lower case)\n",
    "    \"\"\"\n",
    "    entities = tweet.get('entities', {})\n",
    "    hashtags = entities.get('hashtags', [])\n",
    "\n",
    "    return [tag['tag'].lower() for tag in hashtags]"
   ]
  },
  {
   "cell_type": "code",
   "execution_count": null,
   "metadata": {},
   "outputs": [],
   "source": [
    "# The filename of the file to store the tweets into\n",
    "all_twitter_fields_filename = [\"../data/coronation_2023_05_05.json\", \"../data/coronation_2023_05_05_2.json\", \"../data/coronation_2023_05_05_3.json\"]"
   ]
  },
  {
   "cell_type": "code",
   "execution_count": null,
   "metadata": {},
   "outputs": [],
   "source": [
    "tweets = load_tweets(all_twitter_fields_filename)"
   ]
  },
  {
   "cell_type": "code",
   "execution_count": null,
   "metadata": {},
   "outputs": [],
   "source": [
    "# The filename of the file to store the filtered tweets\n",
    "filtered_tweet_fields_filename = \"../data/coronation_2023_05_05_filtered.json\"\n",
    "\n",
    "# The fields of interest\n",
    "fields_of_interest = ['id', 'text', 'author_id', 'context_annotations', 'conversation_id', 'created_at', 'entities', 'geo', 'in_reply_to_user_id', 'lang', 'referenced_tweets']\n",
    "\n",
    "# What we want our tweets to contain\n",
    "# filter_for = \"charles\"\n",
    "\n",
    "# What the tweets should NOT contain (as a hashtag or a word in the text)\n",
    "filter_out = []\n",
    "\n",
    "# The amount of tweets we want to filter out\n",
    "amount_of_tweets = math.inf\n",
    "\n",
    "# Whether tweets with redundant text should be removed or not\n",
    "remove_redundant_tweets_texts = True\n",
    "\n",
    "# Date constraints\n",
    "start_date = datetime.fromisoformat('2023-05-05T00:00:00.000Z'[:-1]).astimezone(timezone.utc)\n",
    "end_date = datetime.fromisoformat('2023-05-05T23:59:59.000Z'[:-1]).astimezone(timezone.utc)"
   ]
  },
  {
   "cell_type": "markdown",
   "metadata": {
    "collapsed": false
   },
   "source": [
    "I load the posts from the file with all fields and delete all fields I am not interested in. Then I store the tweets with the remaining fields if they contain the filter_for and the amount is not exceeded."
   ]
  },
  {
   "cell_type": "code",
   "execution_count": null,
   "metadata": {},
   "outputs": [],
   "source": [
    "# from collections import Counter\n",
    "\n",
    "with open(filtered_tweet_fields_filename, 'w') as fOut:\n",
    "    count = 0\n",
    "    tweet_texts = []\n",
    "    # place_ids_counter = Counter()\n",
    "\n",
    "    for tweet in tweets:\n",
    "\n",
    "        # Remove not interesting fields\n",
    "        for key in list(tweet.keys()):\n",
    "            if key not in fields_of_interest:\n",
    "                del tweet[key]\n",
    "\n",
    "        # Remove tweets which do not contain the filter_for text\n",
    "        text = tweet.get(\"text\").lower()\n",
    "        # if filter_for not in text:\n",
    "        #     continue\n",
    "\n",
    "        # Remove tweets which contain any of filter_out in text or hashtag\n",
    "        hashtags = get_hashtags(tweet)\n",
    "        hashtags_string = \" \".join(hashtags)\n",
    "        if any(word in (text + hashtags_string) for word in filter_out):\n",
    "            continue\n",
    "\n",
    "        # Remove redundant text tweets\n",
    "        if remove_redundant_tweets_texts:\n",
    "            if text not in tweet_texts:\n",
    "                tweet_texts.append(text)\n",
    "                count = count + 1\n",
    "            else:\n",
    "                continue\n",
    "\n",
    "        # Filter out date\n",
    "        created_at = tweet.get('created_at', '')\n",
    "        date = datetime.fromisoformat(created_at[:-1]).astimezone(timezone.utc)\n",
    "        date_in_range = start_date < date < end_date\n",
    "        if not date_in_range:\n",
    "            continue\n",
    "\n",
    "        # Take no more than amount_of_tweets\n",
    "        if count > amount_of_tweets:\n",
    "            break\n",
    "\n",
    "        # Store tweet again\n",
    "        fOut.write(\"{}\\n\".format(json.dumps(tweet)))\n",
    "\n",
    "print(\"Filtered tweets successfully stored to: \", filtered_tweet_fields_filename)"
   ]
  },
  {
   "cell_type": "markdown",
   "metadata": {
    "collapsed": false
   },
   "source": []
  }
 ],
 "metadata": {
  "language_info": {
   "name": "python"
  }
 },
 "nbformat": 4,
 "nbformat_minor": 2
}
