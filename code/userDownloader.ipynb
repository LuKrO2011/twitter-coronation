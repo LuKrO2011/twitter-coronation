{
 "cells": [
  {
   "cell_type": "markdown",
   "metadata": {},
   "source": [
    "# User downloader\n",
    "This notebook downloads user data from Twitter. The ids of the users to download have to be specified in a input file."
   ]
  },
  {
   "cell_type": "code",
   "execution_count": null,
   "metadata": {},
   "outputs": [],
   "source": [
    "import json\n",
    "import twitterClient"
   ]
  },
  {
   "cell_type": "code",
   "execution_count": null,
   "metadata": {},
   "outputs": [],
   "source": [
    "client = twitterClient.twitterClient()"
   ]
  },
  {
   "cell_type": "code",
   "execution_count": null,
   "metadata": {},
   "outputs": [],
   "source": [
    "def load_users_ids(filename):\n",
    "    user_ids = []\n",
    "    with open(filename, 'r') as f:\n",
    "        for sLine in f:\n",
    "            user_id = json.loads(sLine)\n",
    "            user_ids.append(user_id)\n",
    "    return user_ids"
   ]
  },
  {
   "cell_type": "code",
   "execution_count": null,
   "metadata": {},
   "outputs": [],
   "source": [
    "def load_usernames_from_json(filename):\n",
    "    usernames = []\n",
    "    with open(filename, 'r') as f:\n",
    "        for sLine in f:\n",
    "            user = json.loads(sLine)\n",
    "            usernames.append(user.get(\"username\"))\n",
    "    return usernames"
   ]
  },
  {
   "cell_type": "code",
   "execution_count": null,
   "metadata": {},
   "outputs": [],
   "source": [
    "def load_users_usernames(filename):\n",
    "    usernames = []\n",
    "    with open(filename, 'r') as f:\n",
    "        for sLine in f:\n",
    "            username = sLine.strip()\n",
    "            usernames.append(username)\n",
    "    return usernames"
   ]
  },
  {
   "cell_type": "code",
   "execution_count": null,
   "metadata": {},
   "outputs": [],
   "source": [
    "# Define what tweets do download\n",
    "user_ids_file = '../data/graph_data/following_RoyalFamily.json'\n",
    "\n",
    "# All non-authenticated tweet fields\n",
    "all_user_fields = [\"id\",\"name\", \"username\", \"created_at\", \"description\", \"location\", \"entities\", \"pinned_tweet_id\", \"profile_image_url\", \"protected\", \"public_metrics\", \"url\", \"verified\", \"withheld\"]\n",
    "\n",
    "# The filename of the file to store the tweets into\n",
    "output_filename = \"../data/royal_family_following_2.json\""
   ]
  },
  {
   "cell_type": "code",
   "execution_count": null,
   "metadata": {},
   "outputs": [],
   "source": [
    "# usernames = load_users_usernames(user_ids_file)\n",
    "usernames = load_usernames_from_json(user_ids_file)\n",
    "already_processed = load_usernames_from_json(\"../data/royal_family_following.json\")\n",
    "usernames = list(set(usernames) - set(already_processed))\n",
    "\n",
    "print(len(usernames))"
   ]
  },
  {
   "cell_type": "code",
   "execution_count": null,
   "metadata": {},
   "outputs": [],
   "source": [
    "users = []\n",
    "\n",
    "try:\n",
    "    for username in usernames:\n",
    "        twitterResponse = client.get_user(username=username, user_fields=all_user_fields)\n",
    "        if twitterResponse.data is not None:\n",
    "            users.append(twitterResponse.data)\n",
    "except Exception as e:\n",
    "    print(e)\n",
    "finally:\n",
    "    print(len(users))\n",
    "\n",
    "print(\"Number of users downloaded: \", len(users))"
   ]
  },
  {
   "cell_type": "code",
   "execution_count": null,
   "metadata": {},
   "outputs": [],
   "source": [
    "with open(output_filename, 'w') as json_file:\n",
    "    for user in users:\n",
    "        json.dump(user.data, json_file)\n",
    "        json_file.write('\\n')\n",
    "\n",
    "print(\"Users successfully stored to: \", output_filename)"
   ]
  }
 ],
 "metadata": {
  "language_info": {
   "name": "python"
  }
 },
 "nbformat": 4,
 "nbformat_minor": 2
}
