{
 "cells": [
  {
   "cell_type": "markdown",
   "metadata": {},
   "source": [
    "# User filterer\n",
    "This notebook filters certain fields of interest for user data containing all available data."
   ]
  },
  {
   "cell_type": "code",
   "execution_count": null,
   "metadata": {},
   "outputs": [],
   "source": [
    "import json"
   ]
  },
  {
   "cell_type": "code",
   "execution_count": null,
   "metadata": {},
   "outputs": [],
   "source": [
    "def load(filename):\n",
    "    datas = []\n",
    "    with open(filename, 'r') as f:\n",
    "        for line in f:\n",
    "            data = json.loads(line)\n",
    "            datas.append(data)\n",
    "    return datas"
   ]
  },
  {
   "cell_type": "code",
   "execution_count": null,
   "metadata": {},
   "outputs": [],
   "source": [
    "input_filename = \"most_common_users.json\"\n",
    "\n",
    "output_filename = \"most_common_users_filtered_part2.json\"\n",
    "\n",
    "# All user fields\n",
    "all_user_fields = [\"id\",\"name\", \"username\", \"created_at\", \"description\", \"location\", \"entities\", \"pinned_tweet_id\", \"profile_image_url\", \"protected\", \"public_metrics\", \"url\", \"verified\", \"withheld\"]\n",
    "\n",
    "filter_from = 10\n",
    "filter_to = 100\n",
    "\n",
    "# Fields of interest\n",
    "# user_fields_of_interest = [\"id\",\"name\",\"public_metrics\"]\n",
    "user_fields_of_interest = all_user_fields"
   ]
  },
  {
   "cell_type": "code",
   "execution_count": null,
   "metadata": {},
   "outputs": [],
   "source": [
    "users = load(input_filename)"
   ]
  },
  {
   "cell_type": "code",
   "execution_count": null,
   "metadata": {},
   "outputs": [],
   "source": [
    "# Remove not interesting fields\n",
    "for user in users:\n",
    "    for key in list(user):\n",
    "        if key not in user_fields_of_interest:\n",
    "            del user[key]\n",
    "\n",
    "users.sort(key=lambda x: x[\"public_metrics\"][\"followers_count\"], reverse=True)\n",
    "\n",
    "for user in users[filter_from:filter_to]:\n",
    "    print(user)"
   ]
  },
  {
   "cell_type": "code",
   "execution_count": null,
   "metadata": {},
   "outputs": [],
   "source": [
    "# Store filtered followers\n",
    "with open(output_filename, 'w') as json_file:\n",
    "    for user in users[filter_from:filter_to]:\n",
    "        json.dump(user, json_file)\n",
    "        json_file.write('\\n')\n"
   ]
  }
 ],
 "metadata": {
  "language_info": {
   "name": "python"
  }
 },
 "nbformat": 4,
 "nbformat_minor": 2
}
