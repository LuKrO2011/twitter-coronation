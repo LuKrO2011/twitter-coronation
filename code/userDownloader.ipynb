{
 "cells": [
  {
   "cell_type": "markdown",
   "metadata": {},
   "source": [
    "# User downloader\n",
    "This notebook downloads user data from Twitter. The ids of the users to download have to be specified in a input file."
   ]
  },
  {
   "cell_type": "code",
   "execution_count": 46,
   "outputs": [],
   "source": [
    "import json\n",
    "import twitterClient"
   ],
   "metadata": {
    "collapsed": false
   }
  },
  {
   "cell_type": "code",
   "execution_count": 47,
   "outputs": [],
   "source": [
    "client = twitterClient.twitterClient()"
   ],
   "metadata": {
    "collapsed": false
   }
  },
  {
   "cell_type": "code",
   "execution_count": 48,
   "outputs": [],
   "source": [
    "def load_users_ids(filename):\n",
    "    user_ids = []\n",
    "    with open(filename, 'r') as f:\n",
    "        for sLine in f:\n",
    "            user_id = json.loads(sLine)\n",
    "            user_ids.append(user_id)\n",
    "    return user_ids"
   ],
   "metadata": {
    "collapsed": false
   }
  },
  {
   "cell_type": "code",
   "execution_count": 49,
   "outputs": [],
   "source": [
    "def load_usernames_from_json(filename):\n",
    "    usernames = []\n",
    "    with open(filename, 'r') as f:\n",
    "        for sLine in f:\n",
    "            user = json.loads(sLine)\n",
    "            usernames.append(user.get(\"username\"))\n",
    "    return usernames"
   ],
   "metadata": {
    "collapsed": false
   }
  },
  {
   "cell_type": "code",
   "execution_count": 50,
   "outputs": [],
   "source": [
    "def load_users_usernames(filename):\n",
    "    usernames = []\n",
    "    with open(filename, 'r') as f:\n",
    "        for sLine in f:\n",
    "            username = sLine.strip()\n",
    "            usernames.append(username)\n",
    "    return usernames"
   ],
   "metadata": {
    "collapsed": false
   }
  },
  {
   "cell_type": "code",
   "execution_count": 51,
   "outputs": [],
   "source": [
    "# Define what tweets do download\n",
    "user_ids_file = '../data/graph_data/following_RoyalFamily.json'\n",
    "\n",
    "# All non-authenticated tweet fields\n",
    "all_user_fields = [\"id\",\"name\", \"username\", \"created_at\", \"description\", \"location\", \"entities\", \"pinned_tweet_id\", \"profile_image_url\", \"protected\", \"public_metrics\", \"url\", \"verified\", \"withheld\"]\n",
    "\n",
    "# The filename of the file to store the tweets into\n",
    "output_filename = \"../data/royal_family_following_2.json\""
   ],
   "metadata": {
    "collapsed": false
   }
  },
  {
   "cell_type": "code",
   "execution_count": 52,
   "outputs": [
    {
     "name": "stdout",
     "output_type": "stream",
     "text": [
      "160\n"
     ]
    }
   ],
   "source": [
    "# usernames = load_users_usernames(user_ids_file)\n",
    "usernames = load_usernames_from_json(user_ids_file)\n",
    "already_processed = load_usernames_from_json(\"../data/royal_family_following.json\")\n",
    "usernames = list(set(usernames) - set(already_processed))\n",
    "\n",
    "print(len(usernames))"
   ],
   "metadata": {
    "collapsed": false
   }
  },
  {
   "cell_type": "code",
   "execution_count": 53,
   "outputs": [
    {
     "name": "stdout",
     "output_type": "stream",
     "text": [
      "160\n",
      "Number of users downloaded:  160\n"
     ]
    }
   ],
   "source": [
    "users = []\n",
    "\n",
    "try:\n",
    "    for username in usernames:\n",
    "        twitterResponse = client.get_user(username=username, user_fields=all_user_fields)\n",
    "        if twitterResponse.data is not None:\n",
    "            users.append(twitterResponse.data)\n",
    "except Exception as e:\n",
    "    print(e)\n",
    "finally:\n",
    "    print(len(users))\n",
    "\n",
    "print(\"Number of users downloaded: \", len(users))"
   ],
   "metadata": {
    "collapsed": false
   }
  },
  {
   "cell_type": "code",
   "execution_count": 54,
   "outputs": [
    {
     "name": "stdout",
     "output_type": "stream",
     "text": [
      "Users successfully stored to:  ../data/royal_family_following_2.json\n"
     ]
    }
   ],
   "source": [
    "with open(output_filename, 'w') as json_file:\n",
    "    for user in users:\n",
    "        json.dump(user.data, json_file)\n",
    "        json_file.write('\\n')\n",
    "\n",
    "print(\"Users successfully stored to: \", output_filename)"
   ],
   "metadata": {
    "collapsed": false
   }
  }
 ],
 "metadata": {
  "kernelspec": {
   "display_name": "Python 3 (ipykernel)",
   "language": "python",
   "name": "python3"
  },
  "language_info": {
   "codemirror_mode": {
    "name": "ipython",
    "version": 3
   },
   "file_extension": ".py",
   "mimetype": "text/x-python",
   "name": "python",
   "nbconvert_exporter": "python",
   "pygments_lexer": "ipython3",
   "version": "3.9.12"
  }
 },
 "nbformat": 4,
 "nbformat_minor": 2
}
