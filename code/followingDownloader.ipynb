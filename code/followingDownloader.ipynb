{
 "cells": [
  {
   "cell_type": "markdown",
   "metadata": {},
   "source": [
    "# Following users downloader\n",
    "\n",
    "This notebook is used to download the following for users."
   ]
  },
  {
   "cell_type": "code",
   "execution_count": null,
   "metadata": {},
   "outputs": [],
   "source": [
    "import twitterClient\n",
    "import json\n",
    "import os\n",
    "from time import sleep"
   ]
  },
  {
   "cell_type": "code",
   "execution_count": null,
   "metadata": {},
   "outputs": [],
   "source": [
    "client = twitterClient.twitterClient()"
   ]
  },
  {
   "cell_type": "code",
   "execution_count": null,
   "metadata": {},
   "outputs": [],
   "source": [
    "def load(filename):\n",
    "    datas = []\n",
    "    with open(filename, 'r') as f:\n",
    "        for line in f:\n",
    "            data = json.loads(line)\n",
    "            datas.append(data)\n",
    "    return datas\n",
    "\n",
    "\n",
    "def save(filename, data):\n",
    "    with open(filename, 'w') as json_file:\n",
    "        for user in data:\n",
    "            json.dump(user.data, json_file)\n",
    "            json_file.write('\\n')\n",
    "\n",
    "    print(\"Users successfully stored to: \", filename)"
   ]
  },
  {
   "cell_type": "code",
   "execution_count": null,
   "metadata": {},
   "outputs": [],
   "source": [
    "input_filename = \"../data/royal_family_following.json\"\n",
    "output_dir = \"../data/graph_data\"\n",
    "output_filename = 'following'\n",
    "\n",
    "# maximum number of results\n",
    "max_results = 10\n",
    "\n",
    "max_results_per_request = 1000\n",
    "\n",
    "# All user fields\n",
    "all_user_fields = [\"id\",\"name\", \"username\", \"created_at\", \"description\", \"location\", \"entities\", \"pinned_tweet_id\", \"profile_image_url\", \"protected\", \"public_metrics\", \"url\", \"verified\", \"withheld\"]"
   ]
  },
  {
   "cell_type": "code",
   "execution_count": null,
   "metadata": {},
   "outputs": [],
   "source": [
    "egos = load(input_filename)\n",
    "print(len(egos))"
   ]
  },
  {
   "cell_type": "code",
   "execution_count": null,
   "metadata": {},
   "outputs": [],
   "source": [
    "def update_egos():\n",
    "    for ego in egos:\n",
    "        ego_username = ego.get(\"username\")\n",
    "        following_path = output_dir + \"/\" + output_filename + \"_\" + ego_username + \".json\"\n",
    "\n",
    "        if os.path.isfile(following_path):\n",
    "            egos.remove(ego)"
   ]
  },
  {
   "cell_type": "code",
   "execution_count": null,
   "metadata": {},
   "outputs": [],
   "source": [
    "update_egos()\n",
    "print(len(egos))"
   ]
  },
  {
   "cell_type": "code",
   "execution_count": null,
   "metadata": {},
   "outputs": [],
   "source": [
    "for count, ego in enumerate(egos):\n",
    "\n",
    "    if count % 15 == 0: # and count != 0:\n",
    "        sleep(60*15)\n",
    "\n",
    "    # ego attributes\n",
    "    ego_id = ego.get(\"id\")\n",
    "    ego_username = ego.get(\"username\")\n",
    "\n",
    "    # Get followers of ego\n",
    "    followers = []\n",
    "\n",
    "    twitterResponse = client.get_users_following(id=ego_id, max_results=max_results_per_request, user_fields=all_user_fields)\n",
    "    if twitterResponse.data is not None:\n",
    "        for user in twitterResponse.data:\n",
    "            followers.append(user)\n",
    "\n",
    "    print(\"Following downloaded: \" + str(len(followers)))\n",
    "\n",
    "    filename = output_dir + \"/\" + output_filename + \"_\" + ego_username + \".json\"\n",
    "    save(filename, followers)\n"
   ]
  }
 ],
 "metadata": {
  "language_info": {
   "name": "python"
  }
 },
 "nbformat": 4,
 "nbformat_minor": 2
}
